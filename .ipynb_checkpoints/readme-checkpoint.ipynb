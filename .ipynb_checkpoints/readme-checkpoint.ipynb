{
 "cells": [
  {
   "cell_type": "code",
   "execution_count": 61,
   "metadata": {},
   "outputs": [],
   "source": [
    "import pandas as pd"
   ]
  },
  {
   "cell_type": "code",
   "execution_count": 62,
   "metadata": {},
   "outputs": [],
   "source": [
    "df = pd.read_csv(\"data/house_district_forecast.csv\")"
   ]
  },
  {
   "cell_type": "code",
   "execution_count": 63,
   "metadata": {},
   "outputs": [
    {
     "data": {
      "text/html": [
       "<div>\n",
       "<style scoped>\n",
       "    .dataframe tbody tr th:only-of-type {\n",
       "        vertical-align: middle;\n",
       "    }\n",
       "\n",
       "    .dataframe tbody tr th {\n",
       "        vertical-align: top;\n",
       "    }\n",
       "\n",
       "    .dataframe thead th {\n",
       "        text-align: right;\n",
       "    }\n",
       "</style>\n",
       "<table border=\"1\" class=\"dataframe\">\n",
       "  <thead>\n",
       "    <tr style=\"text-align: right;\">\n",
       "      <th></th>\n",
       "      <th>forecastdate</th>\n",
       "      <th>state</th>\n",
       "      <th>district</th>\n",
       "      <th>special</th>\n",
       "      <th>candidate</th>\n",
       "      <th>party</th>\n",
       "      <th>incumbent</th>\n",
       "      <th>model</th>\n",
       "      <th>win_probability</th>\n",
       "      <th>voteshare</th>\n",
       "      <th>p10_voteshare</th>\n",
       "      <th>p90_voteshare</th>\n",
       "    </tr>\n",
       "  </thead>\n",
       "  <tbody>\n",
       "    <tr>\n",
       "      <th>0</th>\n",
       "      <td>2018-08-01</td>\n",
       "      <td>AK</td>\n",
       "      <td>1</td>\n",
       "      <td>NaN</td>\n",
       "      <td>Don Young</td>\n",
       "      <td>R</td>\n",
       "      <td>True</td>\n",
       "      <td>classic</td>\n",
       "      <td>0.7185</td>\n",
       "      <td>49.35</td>\n",
       "      <td>43.04</td>\n",
       "      <td>55.59</td>\n",
       "    </tr>\n",
       "    <tr>\n",
       "      <th>1</th>\n",
       "      <td>2018-08-01</td>\n",
       "      <td>AK</td>\n",
       "      <td>1</td>\n",
       "      <td>NaN</td>\n",
       "      <td>Alyse S. Galvin</td>\n",
       "      <td>D</td>\n",
       "      <td>False</td>\n",
       "      <td>classic</td>\n",
       "      <td>0.2815</td>\n",
       "      <td>44.11</td>\n",
       "      <td>37.77</td>\n",
       "      <td>50.39</td>\n",
       "    </tr>\n",
       "    <tr>\n",
       "      <th>2</th>\n",
       "      <td>2018-08-01</td>\n",
       "      <td>AK</td>\n",
       "      <td>1</td>\n",
       "      <td>NaN</td>\n",
       "      <td>Others</td>\n",
       "      <td>NaN</td>\n",
       "      <td>False</td>\n",
       "      <td>classic</td>\n",
       "      <td>0.0000</td>\n",
       "      <td>6.54</td>\n",
       "      <td>2.60</td>\n",
       "      <td>11.17</td>\n",
       "    </tr>\n",
       "    <tr>\n",
       "      <th>3</th>\n",
       "      <td>2018-08-01</td>\n",
       "      <td>AL</td>\n",
       "      <td>1</td>\n",
       "      <td>NaN</td>\n",
       "      <td>Bradley Byrne</td>\n",
       "      <td>R</td>\n",
       "      <td>True</td>\n",
       "      <td>classic</td>\n",
       "      <td>0.9993</td>\n",
       "      <td>64.90</td>\n",
       "      <td>59.71</td>\n",
       "      <td>69.94</td>\n",
       "    </tr>\n",
       "    <tr>\n",
       "      <th>4</th>\n",
       "      <td>2018-08-01</td>\n",
       "      <td>AL</td>\n",
       "      <td>1</td>\n",
       "      <td>NaN</td>\n",
       "      <td>Robert Kennedy Jr.</td>\n",
       "      <td>D</td>\n",
       "      <td>False</td>\n",
       "      <td>classic</td>\n",
       "      <td>0.0007</td>\n",
       "      <td>35.10</td>\n",
       "      <td>30.06</td>\n",
       "      <td>40.29</td>\n",
       "    </tr>\n",
       "  </tbody>\n",
       "</table>\n",
       "</div>"
      ],
      "text/plain": [
       "  forecastdate state  district  special           candidate party  incumbent  \\\n",
       "0   2018-08-01    AK         1      NaN           Don Young     R       True   \n",
       "1   2018-08-01    AK         1      NaN     Alyse S. Galvin     D      False   \n",
       "2   2018-08-01    AK         1      NaN              Others   NaN      False   \n",
       "3   2018-08-01    AL         1      NaN       Bradley Byrne     R       True   \n",
       "4   2018-08-01    AL         1      NaN  Robert Kennedy Jr.     D      False   \n",
       "\n",
       "     model  win_probability  voteshare  p10_voteshare  p90_voteshare  \n",
       "0  classic           0.7185      49.35          43.04          55.59  \n",
       "1  classic           0.2815      44.11          37.77          50.39  \n",
       "2  classic           0.0000       6.54           2.60          11.17  \n",
       "3  classic           0.9993      64.90          59.71          69.94  \n",
       "4  classic           0.0007      35.10          30.06          40.29  "
      ]
     },
     "execution_count": 63,
     "metadata": {},
     "output_type": "execute_result"
    }
   ],
   "source": [
    "df.head()"
   ]
  },
  {
   "cell_type": "code",
   "execution_count": 64,
   "metadata": {},
   "outputs": [
    {
     "name": "stdout",
     "output_type": "stream",
     "text": [
      "<class 'pandas.core.frame.DataFrame'>\n",
      "RangeIndex: 302859 entries, 0 to 302858\n",
      "Data columns (total 12 columns):\n",
      "forecastdate       302859 non-null object\n",
      "state              302859 non-null object\n",
      "district           302859 non-null int64\n",
      "special            0 non-null float64\n",
      "candidate          302859 non-null object\n",
      "party              283602 non-null object\n",
      "incumbent          302859 non-null bool\n",
      "model              302859 non-null object\n",
      "win_probability    302859 non-null float64\n",
      "voteshare          302859 non-null float64\n",
      "p10_voteshare      302859 non-null float64\n",
      "p90_voteshare      302859 non-null float64\n",
      "dtypes: bool(1), float64(5), int64(1), object(5)\n",
      "memory usage: 25.7+ MB\n"
     ]
    }
   ],
   "source": [
    "df.info()"
   ]
  },
  {
   "cell_type": "code",
   "execution_count": 65,
   "metadata": {},
   "outputs": [
    {
     "data": {
      "text/html": [
       "<div>\n",
       "<style scoped>\n",
       "    .dataframe tbody tr th:only-of-type {\n",
       "        vertical-align: middle;\n",
       "    }\n",
       "\n",
       "    .dataframe tbody tr th {\n",
       "        vertical-align: top;\n",
       "    }\n",
       "\n",
       "    .dataframe thead th {\n",
       "        text-align: right;\n",
       "    }\n",
       "</style>\n",
       "<table border=\"1\" class=\"dataframe\">\n",
       "  <thead>\n",
       "    <tr style=\"text-align: right;\">\n",
       "      <th></th>\n",
       "      <th>district</th>\n",
       "      <th>special</th>\n",
       "      <th>win_probability</th>\n",
       "      <th>voteshare</th>\n",
       "      <th>p10_voteshare</th>\n",
       "      <th>p90_voteshare</th>\n",
       "    </tr>\n",
       "  </thead>\n",
       "  <tbody>\n",
       "    <tr>\n",
       "      <th>count</th>\n",
       "      <td>302859.000000</td>\n",
       "      <td>0.0</td>\n",
       "      <td>302859.000000</td>\n",
       "      <td>302859.000000</td>\n",
       "      <td>302859.000000</td>\n",
       "      <td>302859.000000</td>\n",
       "    </tr>\n",
       "    <tr>\n",
       "      <th>mean</th>\n",
       "      <td>9.641635</td>\n",
       "      <td>NaN</td>\n",
       "      <td>0.421354</td>\n",
       "      <td>42.163495</td>\n",
       "      <td>37.157514</td>\n",
       "      <td>47.254966</td>\n",
       "    </tr>\n",
       "    <tr>\n",
       "      <th>std</th>\n",
       "      <td>10.260220</td>\n",
       "      <td>NaN</td>\n",
       "      <td>0.453051</td>\n",
       "      <td>24.946290</td>\n",
       "      <td>24.353250</td>\n",
       "      <td>25.456194</td>\n",
       "    </tr>\n",
       "    <tr>\n",
       "      <th>min</th>\n",
       "      <td>1.000000</td>\n",
       "      <td>NaN</td>\n",
       "      <td>0.000000</td>\n",
       "      <td>0.000000</td>\n",
       "      <td>-4.650000</td>\n",
       "      <td>-1.220000</td>\n",
       "    </tr>\n",
       "    <tr>\n",
       "      <th>25%</th>\n",
       "      <td>3.000000</td>\n",
       "      <td>NaN</td>\n",
       "      <td>0.000100</td>\n",
       "      <td>23.950000</td>\n",
       "      <td>18.100000</td>\n",
       "      <td>30.340000</td>\n",
       "    </tr>\n",
       "    <tr>\n",
       "      <th>50%</th>\n",
       "      <td>6.000000</td>\n",
       "      <td>NaN</td>\n",
       "      <td>0.127800</td>\n",
       "      <td>44.430000</td>\n",
       "      <td>39.070000</td>\n",
       "      <td>49.830000</td>\n",
       "    </tr>\n",
       "    <tr>\n",
       "      <th>75%</th>\n",
       "      <td>12.000000</td>\n",
       "      <td>NaN</td>\n",
       "      <td>0.992600</td>\n",
       "      <td>60.880000</td>\n",
       "      <td>54.890000</td>\n",
       "      <td>66.720000</td>\n",
       "    </tr>\n",
       "    <tr>\n",
       "      <th>max</th>\n",
       "      <td>53.000000</td>\n",
       "      <td>NaN</td>\n",
       "      <td>1.000000</td>\n",
       "      <td>100.000000</td>\n",
       "      <td>100.000000</td>\n",
       "      <td>100.000000</td>\n",
       "    </tr>\n",
       "  </tbody>\n",
       "</table>\n",
       "</div>"
      ],
      "text/plain": [
       "            district  special  win_probability      voteshare  p10_voteshare  \\\n",
       "count  302859.000000      0.0    302859.000000  302859.000000  302859.000000   \n",
       "mean        9.641635      NaN         0.421354      42.163495      37.157514   \n",
       "std        10.260220      NaN         0.453051      24.946290      24.353250   \n",
       "min         1.000000      NaN         0.000000       0.000000      -4.650000   \n",
       "25%         3.000000      NaN         0.000100      23.950000      18.100000   \n",
       "50%         6.000000      NaN         0.127800      44.430000      39.070000   \n",
       "75%        12.000000      NaN         0.992600      60.880000      54.890000   \n",
       "max        53.000000      NaN         1.000000     100.000000     100.000000   \n",
       "\n",
       "       p90_voteshare  \n",
       "count  302859.000000  \n",
       "mean       47.254966  \n",
       "std        25.456194  \n",
       "min        -1.220000  \n",
       "25%        30.340000  \n",
       "50%        49.830000  \n",
       "75%        66.720000  \n",
       "max       100.000000  "
      ]
     },
     "execution_count": 65,
     "metadata": {},
     "output_type": "execute_result"
    }
   ],
   "source": [
    "df.describe()"
   ]
  },
  {
   "cell_type": "code",
   "execution_count": 66,
   "metadata": {},
   "outputs": [
    {
     "data": {
      "text/plain": [
       "D                         129948\n",
       "R                         116745\n",
       "LIB                        17982\n",
       "IND                         3822\n",
       "GRE                         2439\n",
       "I                           2058\n",
       "G                           1764\n",
       "REF                         1764\n",
       "L                           1188\n",
       "CON                          882\n",
       "AME                          882\n",
       "US Taxpayers                 882\n",
       "NPA                          588\n",
       "Working Class                588\n",
       "Mountain                     294\n",
       "Independence Party           294\n",
       "IPO                          294\n",
       "Reform Party                 294\n",
       "Legal Marijuana Now          294\n",
       "WOF                          294\n",
       "DPD                          294\n",
       "Women's Equality Party        12\n",
       "Name: party, dtype: int64"
      ]
     },
     "execution_count": 66,
     "metadata": {},
     "output_type": "execute_result"
    }
   ],
   "source": [
    "df['party'].value_counts()"
   ]
  },
  {
   "cell_type": "code",
   "execution_count": 67,
   "metadata": {},
   "outputs": [],
   "source": [
    "import matplotlib.pyplot as plt"
   ]
  },
  {
   "cell_type": "code",
   "execution_count": 68,
   "metadata": {},
   "outputs": [],
   "source": [
    "dfplot = df.drop(columns=['special','incumbent'])"
   ]
  },
  {
   "cell_type": "code",
   "execution_count": 69,
   "metadata": {},
   "outputs": [
    {
     "name": "stdout",
     "output_type": "stream",
     "text": [
      "<class 'pandas.core.frame.DataFrame'>\n",
      "RangeIndex: 302859 entries, 0 to 302858\n",
      "Data columns (total 10 columns):\n",
      "forecastdate       302859 non-null object\n",
      "state              302859 non-null object\n",
      "district           302859 non-null int64\n",
      "candidate          302859 non-null object\n",
      "party              283602 non-null object\n",
      "model              302859 non-null object\n",
      "win_probability    302859 non-null float64\n",
      "voteshare          302859 non-null float64\n",
      "p10_voteshare      302859 non-null float64\n",
      "p90_voteshare      302859 non-null float64\n",
      "dtypes: float64(4), int64(1), object(5)\n",
      "memory usage: 23.1+ MB\n"
     ]
    }
   ],
   "source": [
    "dfplot.info()"
   ]
  },
  {
   "cell_type": "code",
   "execution_count": 70,
   "metadata": {},
   "outputs": [
    {
     "data": {
      "text/plain": [
       "array([[<matplotlib.axes._subplots.AxesSubplot object at 0x0000019CBB37E710>,\n",
       "        <matplotlib.axes._subplots.AxesSubplot object at 0x0000019CC223BB00>],\n",
       "       [<matplotlib.axes._subplots.AxesSubplot object at 0x0000019CC2291D68>,\n",
       "        <matplotlib.axes._subplots.AxesSubplot object at 0x0000019CC228FFD0>],\n",
       "       [<matplotlib.axes._subplots.AxesSubplot object at 0x0000019CB41F1278>,\n",
       "        <matplotlib.axes._subplots.AxesSubplot object at 0x0000019CB421A4E0>]],\n",
       "      dtype=object)"
      ]
     },
     "execution_count": 70,
     "metadata": {},
     "output_type": "execute_result"
    },
    {
     "data": {
      "image/png": "[encoded data removed]",
      "text/plain": [
       "<Figure size 1440x1080 with 6 Axes>"
      ]
     },
     "metadata": {
      "needs_background": "light"
     },
     "output_type": "display_data"
    }
   ],
   "source": [
    "dfplot.hist(bins=50,figsize=(20,15))"
   ]
  },
  {
   "cell_type": "code",
   "execution_count": 71,
   "metadata": {},
   "outputs": [],
   "source": [
    "df[\"state_district\"] = df[\"state\"].map(str)+\"_\"+df[\"district\"].map(str)"
   ]
  },
  {
   "cell_type": "code",
   "execution_count": 72,
   "metadata": {},
   "outputs": [
    {
     "data": {
      "text/plain": [
       "100.00    0.017473\n",
       "3.24      0.005210\n",
       "3.18      0.004160\n",
       "3.31      0.003427\n",
       "3.04      0.003213\n",
       "2.93      0.003120\n",
       "2.87      0.003001\n",
       "3.41      0.003001\n",
       "2.81      0.002496\n",
       "2.80      0.002318\n",
       "3.44      0.002268\n",
       "2.94      0.002199\n",
       "3.49      0.002159\n",
       "3.02      0.002143\n",
       "3.48      0.002140\n",
       "3.22      0.002130\n",
       "3.33      0.002080\n",
       "3.01      0.002060\n",
       "3.98      0.002021\n",
       "3.54      0.002011\n",
       "3.39      0.001975\n",
       "2.83      0.001951\n",
       "2.54      0.001941\n",
       "4.29      0.001866\n",
       "3.36      0.001793\n",
       "3.09      0.001714\n",
       "2.98      0.001654\n",
       "3.69      0.001595\n",
       "2.89      0.001496\n",
       "3.11      0.001407\n",
       "            ...   \n",
       "88.67     0.000003\n",
       "88.83     0.000003\n",
       "87.53     0.000003\n",
       "91.43     0.000003\n",
       "5.94      0.000003\n",
       "96.20     0.000003\n",
       "8.64      0.000003\n",
       "86.70     0.000003\n",
       "92.81     0.000003\n",
       "87.36     0.000003\n",
       "88.63     0.000003\n",
       "90.94     0.000003\n",
       "87.45     0.000003\n",
       "92.31     0.000003\n",
       "93.88     0.000003\n",
       "94.05     0.000003\n",
       "87.59     0.000003\n",
       "87.41     0.000003\n",
       "95.25     0.000003\n",
       "92.19     0.000003\n",
       "96.08     0.000003\n",
       "96.80     0.000003\n",
       "95.75     0.000003\n",
       "93.65     0.000003\n",
       "12.84     0.000003\n",
       "96.25     0.000003\n",
       "94.36     0.000003\n",
       "91.96     0.000003\n",
       "88.07     0.000003\n",
       "93.81     0.000003\n",
       "Name: voteshare, Length: 9138, dtype: float64"
      ]
     },
     "execution_count": 72,
     "metadata": {},
     "output_type": "execute_result"
    }
   ],
   "source": [
    "df[\"voteshare\"].value_counts()/len(df)"
   ]
  },
  {
   "cell_type": "markdown",
   "metadata": {},
   "source": [
    "To categorize the data for voteshare we create a new column called votershare. In order to keep the no of categories to low we divide the voteshare by 10. we mainly calculate this to get stratified sampling everytime"
   ]
  },
  {
   "cell_type": "code",
   "execution_count": 73,
   "metadata": {},
   "outputs": [
    {
     "data": {
      "text/plain": [
       "1.0     0.174632\n",
       "5.0     0.153666\n",
       "6.0     0.143740\n",
       "4.0     0.139837\n",
       "7.0     0.136380\n",
       "3.0     0.081203\n",
       "8.0     0.069263\n",
       "2.0     0.045899\n",
       "9.0     0.033431\n",
       "10.0    0.021934\n",
       "0.0     0.000013\n",
       "Name: voteshare_cat, dtype: float64"
      ]
     },
     "execution_count": 73,
     "metadata": {},
     "output_type": "execute_result"
    }
   ],
   "source": [
    "import numpy as np\n",
    "df[\"voteshare_cat\"] = np.ceil(df[\"voteshare\"]/10)\n",
    "df[\"voteshare_cat\"].value_counts()/len(df)"
   ]
  },
  {
   "cell_type": "code",
   "execution_count": 74,
   "metadata": {},
   "outputs": [],
   "source": [
    "from sklearn.model_selection import train_test_split, StratifiedShuffleSplit\n",
    "split = StratifiedShuffleSplit(n_splits=1, test_size=0.2,random_state=42)\n",
    "for train_index, test_index in split.split(df,df[\"voteshare_cat\"]):\n",
    "    strat_train_set = df.loc[train_index]\n",
    "    strat_test_set = df.loc[test_index]"
   ]
  },
  {
   "cell_type": "code",
   "execution_count": 75,
   "metadata": {},
   "outputs": [],
   "source": [
    "for set in (strat_train_set,strat_test_set):\n",
    "    set.drop([\"voteshare_cat\"], axis=1, inplace=True)\n",
    "    "
   ]
  },
  {
   "cell_type": "code",
   "execution_count": 76,
   "metadata": {},
   "outputs": [],
   "source": [
    "data_train = strat_train_set.copy()"
   ]
  },
  {
   "cell_type": "code",
   "execution_count": 77,
   "metadata": {},
   "outputs": [
    {
     "name": "stdout",
     "output_type": "stream",
     "text": [
      "<class 'pandas.core.frame.DataFrame'>\n",
      "Int64Index: 242287 entries, 268221 to 137396\n",
      "Data columns (total 13 columns):\n",
      "forecastdate       242287 non-null object\n",
      "state              242287 non-null object\n",
      "district           242287 non-null int64\n",
      "special            0 non-null float64\n",
      "candidate          242287 non-null object\n",
      "party              226874 non-null object\n",
      "incumbent          242287 non-null bool\n",
      "model              242287 non-null object\n",
      "win_probability    242287 non-null float64\n",
      "voteshare          242287 non-null float64\n",
      "p10_voteshare      242287 non-null float64\n",
      "p90_voteshare      242287 non-null float64\n",
      "state_district     242287 non-null object\n",
      "dtypes: bool(1), float64(5), int64(1), object(6)\n",
      "memory usage: 24.3+ MB\n"
     ]
    }
   ],
   "source": [
    "correlation_matrix = data_train.corr()\n",
    "data_train.info()"
   ]
  },
  {
   "cell_type": "code",
   "execution_count": 78,
   "metadata": {},
   "outputs": [
    {
     "data": {
      "text/plain": [
       "win_probability    1.000000\n",
       "p10_voteshare      0.867031\n",
       "voteshare          0.862565\n",
       "p90_voteshare      0.856851\n",
       "incumbent          0.837702\n",
       "district           0.048895\n",
       "special                 NaN\n",
       "Name: win_probability, dtype: float64"
      ]
     },
     "execution_count": 78,
     "metadata": {},
     "output_type": "execute_result"
    }
   ],
   "source": [
    "correlation_matrix[\"win_probability\"].sort_values(ascending=False)"
   ]
  },
  {
   "cell_type": "code",
   "execution_count": null,
   "metadata": {},
   "outputs": [
    {
     "data": {
      "text/plain": [
       "array([[<matplotlib.axes._subplots.AxesSubplot object at 0x0000019CB37FB908>,\n",
       "        <matplotlib.axes._subplots.AxesSubplot object at 0x0000019CB43649B0>,\n",
       "        <matplotlib.axes._subplots.AxesSubplot object at 0x0000019CCE30AC18>,\n",
       "        <matplotlib.axes._subplots.AxesSubplot object at 0x0000019CC7F94E80>],\n",
       "       [<matplotlib.axes._subplots.AxesSubplot object at 0x0000019CB43B5128>,\n",
       "        <matplotlib.axes._subplots.AxesSubplot object at 0x0000019CB43DD390>,\n",
       "        <matplotlib.axes._subplots.AxesSubplot object at 0x0000019CB44075F8>,\n",
       "        <matplotlib.axes._subplots.AxesSubplot object at 0x0000019CB442F898>],\n",
       "       [<matplotlib.axes._subplots.AxesSubplot object at 0x0000019CB442F8D0>,\n",
       "        <matplotlib.axes._subplots.AxesSubplot object at 0x0000019CB4481E80>,\n",
       "        <matplotlib.axes._subplots.AxesSubplot object at 0x0000019CB4E30438>,\n",
       "        <matplotlib.axes._subplots.AxesSubplot object at 0x0000019CB4E569B0>],\n",
       "       [<matplotlib.axes._subplots.AxesSubplot object at 0x0000019CB4E7EF28>,\n",
       "        <matplotlib.axes._subplots.AxesSubplot object at 0x0000019CB4EAD4A8>,\n",
       "        <matplotlib.axes._subplots.AxesSubplot object at 0x0000019CB4ED5A20>,\n",
       "        <matplotlib.axes._subplots.AxesSubplot object at 0x0000019CB4EFEF98>]],\n",
       "      dtype=object)"
      ]
     },
     "execution_count": 79,
     "metadata": {},
     "output_type": "execute_result"
    }
   ],
   "source": [
    "from pandas.plotting import scatter_matrix\n",
    "\n",
    "attributes = [\"win_probability\",\"state_district\",\"party\",\"voteshare\",\"p10_voteshare\",\"p90_voteshare\"]\n",
    "scatter_matrix(data_train[attributes],figsize=(12,12))"
   ]
  },
  {
   "cell_type": "markdown",
   "metadata": {},
   "source": [
    "we can see a strong correlation between winning probability and voteshare a candidate has in their respective districts"
   ]
  },
  {
   "cell_type": "code",
   "execution_count": null,
   "metadata": {},
   "outputs": [],
   "source": [
    "df.plot(kind=\"scatter\", x=\"voteshare\", y=\"win_probability\",alpha=0.1)\n",
    "plt.show()"
   ]
  },
  {
   "cell_type": "markdown",
   "metadata": {},
   "source": [
    "Since the data has no null values except for \"special\" column, we are dropping the column. As it is has no correlation with win_probability too."
   ]
  },
  {
   "cell_type": "code",
   "execution_count": null,
   "metadata": {},
   "outputs": [],
   "source": [
    "data_train.drop(\"special\",axis=1)"
   ]
  },
  {
   "cell_type": "markdown",
   "metadata": {},
   "source": [
    "to make use of text data we need to convert it into numerical form. Here we will convert state, party into numerical form."
   ]
  },
  {
   "cell_type": "code",
   "execution_count": null,
   "metadata": {},
   "outputs": [],
   "source": [
    "from sklearn.preprocessing import LabelEncoder\n",
    "encoder_party = LabelEncoder()\n",
    "party_cat = data_train[\"party\"]\n",
    "party_cat_encoded = encoder_party.fit_transform(party_cat.astype(str))\n",
    "party_cat_encoded"
   ]
  },
  {
   "cell_type": "code",
   "execution_count": null,
   "metadata": {},
   "outputs": [],
   "source": [
    "print(encoder_party.classes_)"
   ]
  },
  {
   "cell_type": "code",
   "execution_count": null,
   "metadata": {},
   "outputs": [],
   "source": [
    "encoder = LabelEncoder()\n",
    "state_cat = data_train[\"state\"]\n",
    "state_cat_encoded = encoder.fit_transform(state_cat.astype(str))\n",
    "state_cat_encoded"
   ]
  },
  {
   "cell_type": "code",
   "execution_count": null,
   "metadata": {},
   "outputs": [],
   "source": [
    "print(encoder.classes_)"
   ]
  },
  {
   "cell_type": "markdown",
   "metadata": {},
   "source": [
    "We are creating two categories of columns in-order to transform them in data pipeline. We are removing all the non-numerical columns and also the target value column \"win_probability\". We have only categorial columns that are strings \"party\" and \"state_district\""
   ]
  },
  {
   "cell_type": "code",
   "execution_count": null,
   "metadata": {},
   "outputs": [],
   "source": [
    "data_num = df.drop([\"forecastdate\",\"state\",\"district\",\"special\",\"candidate\",\"party\",\"incumbent\",\"model\",\"state_district\",\"win_probability\"],axis=1)"
   ]
  },
  {
   "cell_type": "code",
   "execution_count": null,
   "metadata": {},
   "outputs": [],
   "source": [
    "num_attriutes = list(data_num)\n",
    "cat_attributes = [\"party\",\"state_district\",\"state\",]"
   ]
  },
  {
   "cell_type": "markdown",
   "metadata": {},
   "source": [
    "Generally in the pipeline we an use different transformations that ssklearn provides us with but since data seems tobe pretty consistent for this dataset. So we wont be using imputer or standard scaler. But we will be using LabelEncoder for string categorial data. FaetureUnion from scikit learn makes it simple to run multiple tranformation on data parallely.  "
   ]
  },
  {
   "cell_type": "code",
   "execution_count": null,
   "metadata": {},
   "outputs": [],
   "source": [
    "from sklearn.pipeline import FeatureUnion,make_pipeline"
   ]
  },
  {
   "cell_type": "markdown",
   "metadata": {},
   "source": [
    "Since we have multiple label columns, we might need a multiple column label encoder. sklearn supports multilabelencoder but not multilabelencoder. The solution is influenced by this answer in stackoverflow (https://stackoverflow.com/questions/24458645/label-encoding-across-multiple-columns-in-scikit-learn). Check \"data.py\" for implementation."
   ]
  },
  {
   "cell_type": "code",
   "execution_count": null,
   "metadata": {},
   "outputs": [],
   "source": [
    "from data import MultiColumnLabelEncoder\n",
    "MultiColumnLabelEncoder(cat_attributes).fit_transform(df)"
   ]
  },
  {
   "cell_type": "code",
   "execution_count": null,
   "metadata": {},
   "outputs": [],
   "source": []
  },
  {
   "cell_type": "code",
   "execution_count": null,
   "metadata": {},
   "outputs": [],
   "source": []
  }
 ],
 "metadata": {
  "kernelspec": {
   "display_name": "Python 3",
   "language": "python",
   "name": "python3"
  },
  "language_info": {
   "codemirror_mode": {
    "name": "ipython",
    "version": 3
   },
   "file_extension": ".py",
   "mimetype": "text/x-python",
   "name": "python",
   "nbconvert_exporter": "python",
   "pygments_lexer": "ipython3",
   "version": "3.7.1"
  }
 },
 "nbformat": 4,
 "nbformat_minor": 2
}
